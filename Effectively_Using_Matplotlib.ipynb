{
  "nbformat": 4,
  "nbformat_minor": 0,
  "metadata": {
    "colab": {
      "name": "Effectively Using Matplotlib.ipynb",
      "version": "0.3.2",
      "provenance": [],
      "include_colab_link": true
    },
    "kernelspec": {
      "name": "python3",
      "display_name": "Python 3"
    }
  },
  "cells": [
    {
      "cell_type": "markdown",
      "metadata": {
        "id": "view-in-github",
        "colab_type": "text"
      },
      "source": [
        "<a href=\"https://colab.research.google.com/github/Yujia123/Collected-Resources/blob/master/Effectively_Using_Matplotlib.ipynb\" target=\"_parent\"><img src=\"https://colab.research.google.com/assets/colab-badge.svg\" alt=\"Open In Colab\"/></a>"
      ]
    },
    {
      "cell_type": "code",
      "metadata": {
        "id": "Xxi4pSNLA2ie",
        "colab_type": "code",
        "colab": {}
      },
      "source": [
        "import pandas as pd\n",
        "import matplotlib.pyplot as plt\n",
        "from matplotlib.ticker import FuncFormatter  \n",
        "\n",
        "# FuncFormatter: apply a user defined function to a value and return a nicely \n",
        "# formatted string to place on the axis."
      ],
      "execution_count": 0,
      "outputs": []
    },
    {
      "cell_type": "code",
      "metadata": {
        "id": "_FA5NnyUA4Yu",
        "colab_type": "code",
        "colab": {
          "base_uri": "https://localhost:8080/",
          "height": 195
        },
        "outputId": "c82bd342-672a-4b3c-92b8-7eee3d52d466"
      },
      "source": [
        "df = pd.read_excel(\"https://github.com/chris1610/pbpython/blob/master/data/sample-salesv3.xlsx?raw=true\")\n",
        "df.head()"
      ],
      "execution_count": 66,
      "outputs": [
        {
          "output_type": "execute_result",
          "data": {
            "text/html": [
              "<div>\n",
              "<style scoped>\n",
              "    .dataframe tbody tr th:only-of-type {\n",
              "        vertical-align: middle;\n",
              "    }\n",
              "\n",
              "    .dataframe tbody tr th {\n",
              "        vertical-align: top;\n",
              "    }\n",
              "\n",
              "    .dataframe thead th {\n",
              "        text-align: right;\n",
              "    }\n",
              "</style>\n",
              "<table border=\"1\" class=\"dataframe\">\n",
              "  <thead>\n",
              "    <tr style=\"text-align: right;\">\n",
              "      <th></th>\n",
              "      <th>account number</th>\n",
              "      <th>name</th>\n",
              "      <th>sku</th>\n",
              "      <th>quantity</th>\n",
              "      <th>unit price</th>\n",
              "      <th>ext price</th>\n",
              "      <th>date</th>\n",
              "    </tr>\n",
              "  </thead>\n",
              "  <tbody>\n",
              "    <tr>\n",
              "      <th>0</th>\n",
              "      <td>740150</td>\n",
              "      <td>Barton LLC</td>\n",
              "      <td>B1-20000</td>\n",
              "      <td>39</td>\n",
              "      <td>86.69</td>\n",
              "      <td>3380.91</td>\n",
              "      <td>2014-01-01 07:21:51</td>\n",
              "    </tr>\n",
              "    <tr>\n",
              "      <th>1</th>\n",
              "      <td>714466</td>\n",
              "      <td>Trantow-Barrows</td>\n",
              "      <td>S2-77896</td>\n",
              "      <td>-1</td>\n",
              "      <td>63.16</td>\n",
              "      <td>-63.16</td>\n",
              "      <td>2014-01-01 10:00:47</td>\n",
              "    </tr>\n",
              "    <tr>\n",
              "      <th>2</th>\n",
              "      <td>218895</td>\n",
              "      <td>Kulas Inc</td>\n",
              "      <td>B1-69924</td>\n",
              "      <td>23</td>\n",
              "      <td>90.70</td>\n",
              "      <td>2086.10</td>\n",
              "      <td>2014-01-01 13:24:58</td>\n",
              "    </tr>\n",
              "    <tr>\n",
              "      <th>3</th>\n",
              "      <td>307599</td>\n",
              "      <td>Kassulke, Ondricka and Metz</td>\n",
              "      <td>S1-65481</td>\n",
              "      <td>41</td>\n",
              "      <td>21.05</td>\n",
              "      <td>863.05</td>\n",
              "      <td>2014-01-01 15:05:22</td>\n",
              "    </tr>\n",
              "    <tr>\n",
              "      <th>4</th>\n",
              "      <td>412290</td>\n",
              "      <td>Jerde-Hilpert</td>\n",
              "      <td>S2-34077</td>\n",
              "      <td>6</td>\n",
              "      <td>83.21</td>\n",
              "      <td>499.26</td>\n",
              "      <td>2014-01-01 23:26:55</td>\n",
              "    </tr>\n",
              "  </tbody>\n",
              "</table>\n",
              "</div>"
            ],
            "text/plain": [
              "   account number                         name  ... ext price                 date\n",
              "0          740150                   Barton LLC  ...   3380.91  2014-01-01 07:21:51\n",
              "1          714466              Trantow-Barrows  ...    -63.16  2014-01-01 10:00:47\n",
              "2          218895                    Kulas Inc  ...   2086.10  2014-01-01 13:24:58\n",
              "3          307599  Kassulke, Ondricka and Metz  ...    863.05  2014-01-01 15:05:22\n",
              "4          412290                Jerde-Hilpert  ...    499.26  2014-01-01 23:26:55\n",
              "\n",
              "[5 rows x 7 columns]"
            ]
          },
          "metadata": {
            "tags": []
          },
          "execution_count": 66
        }
      ]
    },
    {
      "cell_type": "markdown",
      "metadata": {
        "id": "KiPdgLnCCIMJ",
        "colab_type": "text"
      },
      "source": [
        "The data consists of sales transactions for 2014. In order to make this post a little shorter, I'm going to summarize the data so we can see the total number of purchases and total sales for the top 10 customers. I am also going to rename columns for clarity during plots."
      ]
    },
    {
      "cell_type": "code",
      "metadata": {
        "id": "OEd_d9mmA4k-",
        "colab_type": "code",
        "colab": {
          "base_uri": "https://localhost:8080/",
          "height": 343
        },
        "outputId": "b8bce909-3b1e-4950-c9be-c6a6f9d77a26"
      },
      "source": [
        "top_10 = (df.groupby('name')['ext price', 'quantity'].\n",
        "          agg({'ext price': 'sum', 'quantity': 'sum'}).\n",
        "          sort_values(by='ext price', ascending=False))[:10].reset_index()\n",
        "top_10.rename(columns={'name': 'Name', 'ext price': 'Sales', 'quantity': 'Purchases'}, inplace=True)\n",
        "top_10"
      ],
      "execution_count": 68,
      "outputs": [
        {
          "output_type": "execute_result",
          "data": {
            "text/html": [
              "<div>\n",
              "<style scoped>\n",
              "    .dataframe tbody tr th:only-of-type {\n",
              "        vertical-align: middle;\n",
              "    }\n",
              "\n",
              "    .dataframe tbody tr th {\n",
              "        vertical-align: top;\n",
              "    }\n",
              "\n",
              "    .dataframe thead th {\n",
              "        text-align: right;\n",
              "    }\n",
              "</style>\n",
              "<table border=\"1\" class=\"dataframe\">\n",
              "  <thead>\n",
              "    <tr style=\"text-align: right;\">\n",
              "      <th></th>\n",
              "      <th>Name</th>\n",
              "      <th>Sales</th>\n",
              "      <th>Purchases</th>\n",
              "    </tr>\n",
              "  </thead>\n",
              "  <tbody>\n",
              "    <tr>\n",
              "      <th>0</th>\n",
              "      <td>Kulas Inc</td>\n",
              "      <td>137351.96</td>\n",
              "      <td>2265</td>\n",
              "    </tr>\n",
              "    <tr>\n",
              "      <th>1</th>\n",
              "      <td>White-Trantow</td>\n",
              "      <td>135841.99</td>\n",
              "      <td>2258</td>\n",
              "    </tr>\n",
              "    <tr>\n",
              "      <th>2</th>\n",
              "      <td>Trantow-Barrows</td>\n",
              "      <td>123381.38</td>\n",
              "      <td>2271</td>\n",
              "    </tr>\n",
              "    <tr>\n",
              "      <th>3</th>\n",
              "      <td>Jerde-Hilpert</td>\n",
              "      <td>112591.43</td>\n",
              "      <td>1999</td>\n",
              "    </tr>\n",
              "    <tr>\n",
              "      <th>4</th>\n",
              "      <td>Fritsch, Russel and Anderson</td>\n",
              "      <td>112214.71</td>\n",
              "      <td>2112</td>\n",
              "    </tr>\n",
              "    <tr>\n",
              "      <th>5</th>\n",
              "      <td>Barton LLC</td>\n",
              "      <td>109438.50</td>\n",
              "      <td>2041</td>\n",
              "    </tr>\n",
              "    <tr>\n",
              "      <th>6</th>\n",
              "      <td>Will LLC</td>\n",
              "      <td>104437.60</td>\n",
              "      <td>1828</td>\n",
              "    </tr>\n",
              "    <tr>\n",
              "      <th>7</th>\n",
              "      <td>Koepp Ltd</td>\n",
              "      <td>103660.54</td>\n",
              "      <td>1790</td>\n",
              "    </tr>\n",
              "    <tr>\n",
              "      <th>8</th>\n",
              "      <td>Frami, Hills and Schmidt</td>\n",
              "      <td>103569.59</td>\n",
              "      <td>1903</td>\n",
              "    </tr>\n",
              "    <tr>\n",
              "      <th>9</th>\n",
              "      <td>Keeling LLC</td>\n",
              "      <td>100934.30</td>\n",
              "      <td>1806</td>\n",
              "    </tr>\n",
              "  </tbody>\n",
              "</table>\n",
              "</div>"
            ],
            "text/plain": [
              "                           Name      Sales  Purchases\n",
              "0                     Kulas Inc  137351.96       2265\n",
              "1                 White-Trantow  135841.99       2258\n",
              "2               Trantow-Barrows  123381.38       2271\n",
              "3                 Jerde-Hilpert  112591.43       1999\n",
              "4  Fritsch, Russel and Anderson  112214.71       2112\n",
              "5                    Barton LLC  109438.50       2041\n",
              "6                      Will LLC  104437.60       1828\n",
              "7                     Koepp Ltd  103660.54       1790\n",
              "8      Frami, Hills and Schmidt  103569.59       1903\n",
              "9                   Keeling LLC  100934.30       1806"
            ]
          },
          "metadata": {
            "tags": []
          },
          "execution_count": 68
        }
      ]
    },
    {
      "cell_type": "markdown",
      "metadata": {
        "id": "L85jG6rqDWz0",
        "colab_type": "text"
      },
      "source": [
        "As I mentioned earlier, matplotlib has many different styles available for rendering plots. You can see which ones are available on your system using **plt.style.available** ."
      ]
    },
    {
      "cell_type": "code",
      "metadata": {
        "id": "B8HmS7ZdC4Q4",
        "colab_type": "code",
        "colab": {
          "base_uri": "https://localhost:8080/",
          "height": 454
        },
        "outputId": "10eb3025-42e3-4158-c06b-13289df5cac7"
      },
      "source": [
        "plt.style.available"
      ],
      "execution_count": 9,
      "outputs": [
        {
          "output_type": "execute_result",
          "data": {
            "text/plain": [
              "['seaborn-colorblind',\n",
              " 'seaborn-deep',\n",
              " 'seaborn-paper',\n",
              " 'seaborn-notebook',\n",
              " 'seaborn-poster',\n",
              " 'fivethirtyeight',\n",
              " 'grayscale',\n",
              " 'seaborn',\n",
              " 'seaborn-ticks',\n",
              " 'seaborn-dark',\n",
              " 'seaborn-dark-palette',\n",
              " 'seaborn-pastel',\n",
              " 'ggplot',\n",
              " 'seaborn-darkgrid',\n",
              " 'classic',\n",
              " 'fast',\n",
              " 'seaborn-bright',\n",
              " '_classic_test',\n",
              " 'Solarize_Light2',\n",
              " 'dark_background',\n",
              " 'seaborn-white',\n",
              " 'tableau-colorblind10',\n",
              " 'seaborn-muted',\n",
              " 'seaborn-talk',\n",
              " 'bmh',\n",
              " 'seaborn-whitegrid']"
            ]
          },
          "metadata": {
            "tags": []
          },
          "execution_count": 9
        }
      ]
    },
    {
      "cell_type": "code",
      "metadata": {
        "id": "dbXA86yoDL9d",
        "colab_type": "code",
        "colab": {}
      },
      "source": [
        "plt.style.use('ggplot')"
      ],
      "execution_count": 0,
      "outputs": []
    },
    {
      "cell_type": "code",
      "metadata": {
        "id": "3CWZu4M_Dio4",
        "colab_type": "code",
        "colab": {
          "base_uri": "https://localhost:8080/",
          "height": 269
        },
        "outputId": "947a9d95-bae0-4bb3-f354-f1ad956d2a2a"
      },
      "source": [
        "top_10.plot(kind='barh', y='Sales', x='Name');   # 'barh' - horizontal bar plot "
      ],
      "execution_count": 28,
      "outputs": [
        {
          "output_type": "display_data",
          "data": {
            "image/png": "[encoded data removed]",
            "text/plain": [
              "<Figure size 432x288 with 1 Axes>"
            ]
          },
          "metadata": {
            "tags": []
          }
        }
      ]
    },
    {
      "cell_type": "markdown",
      "metadata": {
        "id": "OR0ONuWYFG8O",
        "colab_type": "text"
      },
      "source": [
        "The reason I recommend using pandas plotting first is that it is a quick and easy way to prototype your visualization. Since most people are probably already doing some level of data manipulation/analysis in pandas as a first step, go ahead and use the basic plots to get started."
      ]
    },
    {
      "cell_type": "markdown",
      "metadata": {
        "id": "x-5HEf3xFaRu",
        "colab_type": "text"
      },
      "source": [
        "### Customizing the Plot"
      ]
    },
    {
      "cell_type": "code",
      "metadata": {
        "id": "s5KwQ2iADpH1",
        "colab_type": "code",
        "colab": {
          "base_uri": "https://localhost:8080/",
          "height": 269
        },
        "outputId": "93789684-947c-4e9c-e250-c6cb42b9770d"
      },
      "source": [
        "|fig, ax = plt.subplots()\n",
        "top_10.plot(kind='barh', y='Sales', x='Name', ax=ax);"
      ],
      "execution_count": 31,
      "outputs": [
        {
          "output_type": "display_data",
          "data": {
            "image/png": "[encoded data removed]",
            "text/plain": [
              "<Figure size 432x288 with 1 Axes>"
            ]
          },
          "metadata": {
            "tags": []
          }
        }
      ]
    },
    {
      "cell_type": "markdown",
      "metadata": {
        "id": "4Rj5n9E4MzVA",
        "colab_type": "text"
      },
      "source": [
        "[plt.subplots()](https://matplotlib.org/3.1.1/api/_as_gen/matplotlib.pyplot.subplots.html)"
      ]
    },
    {
      "cell_type": "code",
      "metadata": {
        "id": "jBe9x9N5Fjz4",
        "colab_type": "code",
        "colab": {
          "base_uri": "https://localhost:8080/",
          "height": 302
        },
        "outputId": "147b54d1-4f3f-4ce7-aa1b-5e375d138541"
      },
      "source": [
        "fig, ax = plt.subplots()\n",
        "top_10.plot(kind='barh', y='Sales', x='Name', ax=ax)\n",
        "ax.set_xlim([-10000, 140000])\n",
        "ax.set_xlabel('Total Revenue')\n",
        "ax.set_ylabel('Customer');"
      ],
      "execution_count": 29,
      "outputs": [
        {
          "output_type": "execute_result",
          "data": {
            "text/plain": [
              "Text(0, 0.5, 'Customer')"
            ]
          },
          "metadata": {
            "tags": []
          },
          "execution_count": 29
        },
        {
          "output_type": "display_data",
          "data": {
            "image/png": "[encoded data removed]",
            "text/plain": [
              "<Figure size 432x288 with 1 Axes>"
            ]
          },
          "metadata": {
            "tags": []
          }
        }
      ]
    },
    {
      "cell_type": "markdown",
      "metadata": {
        "id": "BpC04udJGK8q",
        "colab_type": "text"
      },
      "source": [
        "<font color=red> 绘图时后面加上分号不显示<matplotlib.axes._subplots.AxesSubplot at 0x7fc1f8502828> 相关信息 <font>"
      ]
    },
    {
      "cell_type": "markdown",
      "metadata": {
        "id": "zIz-3P9fHmtn",
        "colab_type": "text"
      },
      "source": [
        "Here’s another shortcut we can use to change the title and both labels:"
      ]
    },
    {
      "cell_type": "code",
      "metadata": {
        "id": "PDyuJgrhF0t7",
        "colab_type": "code",
        "colab": {
          "base_uri": "https://localhost:8080/",
          "height": 299
        },
        "outputId": "731faddf-61b3-4bae-bd74-c11de0ca3c54"
      },
      "source": [
        "fig, ax = plt.subplots()\n",
        "top_10.plot(kind='barh', y='Sales', x='Name', ax=ax)\n",
        "ax.set_xlim([-10000, 140000])\n",
        "ax.set(title='2014 Revenue', xlabel='Total Revenue', ylabel='Customer');"
      ],
      "execution_count": 33,
      "outputs": [
        {
          "output_type": "display_data",
          "data": {
            "image/png": "[encoded data removed]",
            "text/plain": [
              "<Figure size 432x288 with 1 Axes>"
            ]
          },
          "metadata": {
            "tags": []
          }
        }
      ]
    },
    {
      "cell_type": "markdown",
      "metadata": {
        "id": "_94j6Yt9H624",
        "colab_type": "text"
      },
      "source": [
        "To further demonstrate this approach, we can also adjust the size of this image. By using the plt.subplots() function, we can define the figsize in inches. We can also remove the legend using ax.legend().set_visible(False)"
      ]
    },
    {
      "cell_type": "code",
      "metadata": {
        "id": "Umouuma2H1aZ",
        "colab_type": "code",
        "colab": {
          "base_uri": "https://localhost:8080/",
          "height": 408
        },
        "outputId": "a28d545d-cb67-4532-fec9-37b89775d72b"
      },
      "source": [
        "fig, ax = plt.subplots(figsize=(5, 6))\n",
        "top_10.plot(kind='barh', y='Sales', x='Name', ax=ax)\n",
        "ax.set_xlim([-10000, 140000])\n",
        "ax.set(title='2014 Revenue', xlabel='Total Revenue')\n",
        "ax.legend().set_visible(False)"
      ],
      "execution_count": 35,
      "outputs": [
        {
          "output_type": "display_data",
          "data": {
            "image/png": "[encoded data removed]",
            "text/plain": [
              "<Figure size 360x432 with 1 Axes>"
            ]
          },
          "metadata": {
            "tags": []
          }
        }
      ]
    },
    {
      "cell_type": "markdown",
      "metadata": {
        "id": "i_dQIHNIIySO",
        "colab_type": "text"
      },
      "source": [
        "There are plenty of things you probably want to do to clean up this plot. One of the biggest eye sores is the formatting of the Total Revenue numbers. Matplotlib can help us with this through the use of the FuncFormatter . This versatile function can apply a user defined function to a value and return a nicely formatted string to place on the axis.\n",
        "\n",
        "Here is a currency formatting function to gracefully handle US dollars in the several hundred thousand dollar range:"
      ]
    },
    {
      "cell_type": "code",
      "metadata": {
        "id": "bhTzfezNIZKC",
        "colab_type": "code",
        "colab": {}
      },
      "source": [
        "def currency(x, pos):\n",
        "  'The two args are the value and tick position'\n",
        "  if x>= 1000000:\n",
        "    return '${:1.1f}M'.format(x*1e-6)\n",
        "  return '${:1.0f}K'.format(x*1e-3)"
      ],
      "execution_count": 0,
      "outputs": []
    },
    {
      "cell_type": "markdown",
      "metadata": {
        "id": "QGkYAp53JV26",
        "colab_type": "text"
      },
      "source": [
        "Now that we have a formatter function, we need to define it and apply it to the x axis. Here is the full code:"
      ]
    },
    {
      "cell_type": "code",
      "metadata": {
        "id": "M078mWd9JOJX",
        "colab_type": "code",
        "colab": {
          "base_uri": "https://localhost:8080/",
          "height": 299
        },
        "outputId": "121d548e-a006-4a88-e2a3-e186003cb9f7"
      },
      "source": [
        "fig, ax = plt.subplots()\n",
        "top_10.plot(kind='barh', y='Sales', x='Name', ax=ax)\n",
        "ax.set_xlim([-10000, 140000])\n",
        "ax.set(title='2014 Revenue', xlabel='Total Revenue', ylabel='Customer')\n",
        "formatter = FuncFormatter(currency)\n",
        "ax.xaxis.set_major_formatter(formatter)\n",
        "ax.legend().set_visible(False)"
      ],
      "execution_count": 39,
      "outputs": [
        {
          "output_type": "display_data",
          "data": {
            "image/png": "[encoded data removed]",
            "text/plain": [
              "<Figure size 432x288 with 1 Axes>"
            ]
          },
          "metadata": {
            "tags": []
          }
        }
      ]
    },
    {
      "cell_type": "markdown",
      "metadata": {
        "id": "psm4JelTJxxb",
        "colab_type": "text"
      },
      "source": [
        "The final customization feature I will go through is the ability to add annotations to the plot. In order to draw a vertical line, you can use ax.axvline() and to add custom text, you can use ax.text() .\n",
        "\n",
        "For this example, we’ll draw a line showing an average and include labels showing three new customers. Here is the full code with comments to pull it all together."
      ]
    },
    {
      "cell_type": "code",
      "metadata": {
        "id": "Vlkz6DQcJrqh",
        "colab_type": "code",
        "colab": {}
      },
      "source": [
        "# Create the figure and the axes\n",
        "fig, ax = plt.subplots()\n",
        "\n",
        "# Plot the data and get the averaged\n",
        "top_10.plot(kind='barh', y='Sales', x='Name', ax=ax)\n",
        "avg = top_10['Sales'].mean()\n",
        "\n",
        "# Set limits and labels\n",
        "ax.set_xlim([-10000, 140000])\n",
        "ax.set(title='2014 Revenue', xlabel='Total Revenue', ylabel='Customer')\n",
        "\n",
        "# Add a line for the average\n",
        "ax.axvline(x=avg, color='b', label='Average', linestyle='--', linewidth=1)\n",
        "\n",
        "# Annotate the new customers\n",
        "for cust in [3, 5, 8]:\n",
        "  ax.text(115000, cust, 'New Customer')\n",
        "  \n",
        "# Format the currency\n",
        "formatter = FuncFormatter(currency)\n",
        "ax.xaxis.set_major_formatter(formatter)\n",
        "\n",
        "# Hide the legend\n",
        "ax.legend().set_visible(False)"
      ],
      "execution_count": 0,
      "outputs": []
    },
    {
      "cell_type": "markdown",
      "metadata": {
        "id": "rrz7lMNtLjbK",
        "colab_type": "text"
      },
      "source": [
        "[matplotlib.pyplot.axvline](https://matplotlib.org/3.1.1/api/_as_gen/matplotlib.pyplot.axvline.html)  \n",
        "[matplotlib.axes.Axes.text](https://matplotlib.org/3.1.1/api/_as_gen/matplotlib.axes.Axes.text.html)  \n"
      ]
    },
    {
      "cell_type": "markdown",
      "metadata": {
        "id": "fNltkkIvMLWj",
        "colab_type": "text"
      },
      "source": [
        "### Figures and Plots"
      ]
    },
    {
      "cell_type": "markdown",
      "metadata": {
        "id": "bDufXZVgMQ-c",
        "colab_type": "text"
      },
      "source": [
        "Up until now, all the changes we have made have been with the indivudual plot. Fortunately, we also have the ability to add multiple plots on a figure as well as save the entire figure using various options.\n",
        "\n",
        "If we decided that we wanted to put two plots on the same figure, we should have a basic understanding of how to do it. First, create the figure, then the axes, then plot it all together. We can accomplish this using plt.subplots() :"
      ]
    },
    {
      "cell_type": "code",
      "metadata": {
        "id": "VaMF5OlbL9Dl",
        "colab_type": "code",
        "colab": {
          "base_uri": "https://localhost:8080/",
          "height": 269
        },
        "outputId": "f6e3b771-2692-4365-c877-8fe88fa5ffc7"
      },
      "source": [
        "fig, (ax0, ax1) = plt.subplots(nrows=1, ncols=2, sharey=True, figsize=(7, 4));"
      ],
      "execution_count": 41,
      "outputs": [
        {
          "output_type": "display_data",
          "data": {
            "image/png": "[encoded data removed]",
            "text/plain": [
              "<Figure size 504x288 with 2 Axes>"
            ]
          },
          "metadata": {
            "tags": []
          }
        }
      ]
    },
    {
      "cell_type": "markdown",
      "metadata": {
        "id": "0pNG0eJxMoyl",
        "colab_type": "text"
      },
      "source": [
        "In this example, I’m using nrows and ncols to specify the size because this is very clear to the new user. In sample code you will frequently just see variables like 1,2. I think using the named parameters is a little easier to interpret later on when you’re looking at your code.\n",
        "\n",
        "I am also using sharey=True so that the yaxis will share the same labels.\n",
        "\n",
        "This example is also kind of nifty because the various axes get unpacked to ax0 and ax1 . Now that we have these axes, you can plot them like the examples above but put one plot on ax0 and the other on ax1 ."
      ]
    },
    {
      "cell_type": "code",
      "metadata": {
        "id": "T7vVOKT1MT8i",
        "colab_type": "code",
        "colab": {
          "base_uri": "https://localhost:8080/",
          "height": 311
        },
        "outputId": "7e6bffa6-b0d1-43af-e4c8-fb8743737ad0"
      },
      "source": [
        "# Get the figure and the axes\n",
        "fig, (ax0, ax1) = plt.subplots(nrows=1, ncols=2, sharey=True, figsize=(7, 4))\n",
        "top_10.plot(kind='barh', y='Sales', x='Name', ax=ax0)\n",
        "ax0.set_xlim([-10000, 140000])\n",
        "ax0.set(title='Revenue', xlabel='Total Revenue', ylabel='Customers')\n",
        "\n",
        "# Plot the average as a vertical line\n",
        "avg = top_10['Sales'].mean()\n",
        "ax0.axvline(x=avg, color='b', label='Average', linestyle='--', linewidth=1)\n",
        "\n",
        "# Repeat for the unit plot\n",
        "top_10.plot(kind='barh', y=\"Purchases\", x=\"Name\", ax=ax1)\n",
        "avg = top_10['Purchases'].mean()\n",
        "ax1.set(title='Units', xlabel='Total Units', ylabel='')\n",
        "ax1.axvline(x=avg, color='b', label='Average', linestyle='--', linewidth=1)\n",
        "\n",
        "# Title the figure\n",
        "fig.suptitle('2014 Sales Analysis', fontsize=14, fontweight='bold')\n",
        "\n",
        "# Hide the legends\n",
        "ax1.legend().set_visible(False)\n",
        "ax0.legend().set_visible(False)"
      ],
      "execution_count": 43,
      "outputs": [
        {
          "output_type": "display_data",
          "data": {
            "image/png": "[encoded data removed]",
            "text/plain": [
              "<Figure size 504x288 with 2 Axes>"
            ]
          },
          "metadata": {
            "tags": []
          }
        }
      ]
    },
    {
      "cell_type": "markdown",
      "metadata": {
        "id": "Exw4rzitN9-S",
        "colab_type": "text"
      },
      "source": [
        "[matplotlib.axes.Axes.axvline](https://matplotlib.org/3.1.1/api/_as_gen/matplotlib.axes.Axes.axvline.html)"
      ]
    },
    {
      "cell_type": "markdown",
      "metadata": {
        "id": "zWUYJkEnOc3p",
        "colab_type": "text"
      },
      "source": [
        "Up until now, I have been relying on the jupyter notebook to display the figures by virtue of the %matplotlib inline directive. However, there are going to be plenty of times where you have the need to save a figure in a specific format and integrate it with some other presentation.\n",
        "\n",
        "Matplotlib supports many different formats for saving files. You can use fig.canvas.get_supported_filetypes() to see what your system supports:"
      ]
    },
    {
      "cell_type": "code",
      "metadata": {
        "id": "at2P587zOAEx",
        "colab_type": "code",
        "colab": {}
      },
      "source": [
        "fig.canvas.get_supported_filetypes()"
      ],
      "execution_count": 0,
      "outputs": []
    },
    {
      "cell_type": "markdown",
      "metadata": {
        "id": "StQ8yZ4EOnn-",
        "colab_type": "text"
      },
      "source": [
        "Since we have the fig object, we can save the figure using multiple options:"
      ]
    },
    {
      "cell_type": "code",
      "metadata": {
        "id": "2sU_HA8YOkRn",
        "colab_type": "code",
        "colab": {}
      },
      "source": [
        "fig.savefig('sales.png', transparent=False, dpi=80, bbox_inches='tight')"
      ],
      "execution_count": 0,
      "outputs": []
    },
    {
      "cell_type": "markdown",
      "metadata": {
        "id": "DI_bTAK_PAk6",
        "colab_type": "text"
      },
      "source": [
        "This version saves the plot as a png with opaque background. I have also specified the dpi and bbox_inches=\"tight\" in order to minimize excess white space."
      ]
    },
    {
      "cell_type": "markdown",
      "metadata": {
        "id": "ZI-dwmg8Qf-I",
        "colab_type": "text"
      },
      "source": [
        "### Conclusion"
      ]
    },
    {
      "cell_type": "markdown",
      "metadata": {
        "id": "oFZbk5hJPDwi",
        "colab_type": "text"
      },
      "source": [
        "As a final bonus, I am including a quick guide to unify all the concepts. I hope this helps bring this post together and proves a handy reference for future use."
      ]
    },
    {
      "cell_type": "markdown",
      "metadata": {
        "id": "Uvyf--6bQi0N",
        "colab_type": "text"
      },
      "source": [
        "![reference for matplotlib](https://pbpython.com/images/matplotlib-pbpython-example.png)"
      ]
    }
  ]
}