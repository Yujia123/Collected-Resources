{
 "cells": [
  {
   "cell_type": "code",
   "execution_count": 1,
   "metadata": {},
   "outputs": [],
   "source": [
    "import pandas as pd\n",
    "from sklearn.decomposition import PCA   # 特征处理\n",
    "from sklearn.neighbors import KNeighborsClassifier   # 分类器\n",
    "import time"
   ]
  },
  {
   "cell_type": "code",
   "execution_count": 14,
   "metadata": {},
   "outputs": [],
   "source": [
    "train_num = 20000    # 训练数据量\n",
    "test_num = 30000    # 测试的数据\n",
    "data = pd.read_csv(\"train.csv\")"
   ]
  },
  {
   "cell_type": "code",
   "execution_count": 13,
   "metadata": {},
   "outputs": [
    {
     "data": {
      "text/plain": [
       "(42000, 785)"
      ]
     },
     "execution_count": 13,
     "metadata": {},
     "output_type": "execute_result"
    }
   ],
   "source": [
    "data.shape\n",
    "# print(data)"
   ]
  },
  {
   "cell_type": "code",
   "execution_count": 27,
   "metadata": {},
   "outputs": [
    {
     "name": "stdout",
     "output_type": "stream",
     "text": [
      "[0.09688875 0.07083394 0.06070377 0.05438131 0.04944068 0.04283618\n",
      " 0.03283084 0.02913966 0.02728312 0.02345351 0.0211069  0.02071705\n",
      " 0.01728434 0.0168007  0.01569835 0.01472831 0.01342459 0.01286017\n",
      " 0.01192203 0.01153994 0.01080879 0.01012308 0.0095738  0.00927977\n",
      " 0.00887946 0.00836858]\n",
      "[332935.35180627 243404.14706763 208594.20595089 186868.54300946\n",
      " 169891.25342749 147196.43506816 112815.44625749 100131.58775183\n",
      "  93752.00569798  80592.4499509   72528.89884641  71189.24824411\n",
      "  59393.57111255  57731.64464744  53943.6867847   50610.35579286\n",
      "  46130.44747737  44190.94816811  40967.24965663  39654.27720444\n",
      "  37141.85400309  34785.59444085  32898.09199306  31887.74946753\n",
      "  30512.17948268  28756.64326018]\n"
     ]
    }
   ],
   "source": [
    "train_data = data.values[0:train_num, 1:]   # 抓取训练数据\n",
    "train_label = data.values[0:train_num, 0]   # 训练的结果\n",
    "test_data = data.values[train_num:test_num, 1:]   # 测试的数据\n",
    "test_label = data.values[train_num:test_num, 0]   # 测试的结果\n",
    "\n",
    "start = time.time()\n",
    "\n",
    "# pca特征训练   whiten = True 白化处理   n_components 特征\n",
    "pca = PCA(n_components = 0.7, whiten = True)  # 白化\n",
    "\n",
    "train_x = pca.fit_transform(train_data)   # 数据预处理\n",
    "test_x = pca.fit_transform(test_data)\n",
    "\n",
    "# 返回所保留各个特征的方差百分比和方差值\n",
    "print(pca.explained_variance_ratio_) \n",
    "print(pca.explained_variance_)"
   ]
  },
  {
   "cell_type": "code",
   "execution_count": 25,
   "metadata": {},
   "outputs": [
    {
     "name": "stdout",
     "output_type": "stream",
     "text": [
      "[0.09688875 0.07083394 0.06070377 0.05438131 0.04944068 0.04283618\n",
      " 0.03283084 0.02913966 0.02728312 0.02345351 0.0211069  0.02071705\n",
      " 0.01728434 0.0168007  0.01569835 0.01472831 0.01342459 0.01286017\n",
      " 0.01192203 0.01153994 0.01080879 0.01012308 0.0095738  0.00927977\n",
      " 0.00887946 0.00836858]\n",
      "[332935.35180627 243404.14706763 208594.20595089 186868.54300946\n",
      " 169891.25342749 147196.43506816 112815.44625749 100131.58775183\n",
      "  93752.00569798  80592.4499509   72528.89884641  71189.24824411\n",
      "  59393.57111255  57731.64464744  53943.6867847   50610.35579286\n",
      "  46130.44747737  44190.94816811  40967.24965663  39654.27720444\n",
      "  37141.85400309  34785.59444085  32898.09199306  31887.74946753\n",
      "  30512.17948268  28756.64326018]\n"
     ]
    }
   ],
   "source": [
    "# 定义模型\n",
    "knn = KNeighborsClassifier(n_neighbors=10)\n",
    "knn.fit(train_x, train_label)   # 训练\n",
    "pre = knn.predict(test_x)\n",
    "\n",
    "acc = (pre==test_label).sum()/len(test_label)\n",
    "end = time.time()\n",
    "\n",
    "print(acc, end-start)"
   ]
  },
  {
   "cell_type": "markdown",
   "metadata": {},
   "source": [
    "参考:   \n",
    "scikit-learn PCA类介绍  https://www.cnblogs.com/pinard/p/6243025.html   \n",
    "sklearn中PCA的使用方法  https://www.jianshu.com/p/8642d5ea5389"
   ]
  },
  {
   "cell_type": "code",
   "execution_count": null,
   "metadata": {},
   "outputs": [],
   "source": []
  }
 ],
 "metadata": {
  "kernelspec": {
   "display_name": "Python 3",
   "language": "python",
   "name": "python3"
  },
  "language_info": {
   "codemirror_mode": {
    "name": "ipython",
    "version": 3
   },
   "file_extension": ".py",
   "mimetype": "text/x-python",
   "name": "python",
   "nbconvert_exporter": "python",
   "pygments_lexer": "ipython3",
   "version": "3.6.5"
  }
 },
 "nbformat": 4,
 "nbformat_minor": 2
}
